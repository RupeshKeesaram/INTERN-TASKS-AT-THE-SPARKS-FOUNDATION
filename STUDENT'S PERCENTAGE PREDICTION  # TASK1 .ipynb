{
 "cells": [
  {
   "cell_type": "markdown",
   "metadata": {},
   "source": [
    "<h1><center>TASK1 :- PREDICTION USING SUPERVISED ML</center></h1>\n",
    "\n",
    "<h2> <center>  BY  :-  RUPESH KEESARAM </center></h2>\n"
   ]
  },
  {
   "cell_type": "markdown",
   "metadata": {},
   "source": [
    "\n",
    "<h3><center> DATA SCIENCE AND BUSINESS ANALYTICS INTERN AT THE SPARKS FOUNDATION (TSF) </center></h3>"
   ]
  },
  {
   "cell_type": "markdown",
   "metadata": {},
   "source": [
    "# Linear Regression\n",
    "Linear regression is a simple ML algorithm used to deal with continuos values and They are two types of Linear Regressions.\n",
    " * Single Linear Regression   : Single Feature (coloumn) is used to train ML model.\n",
    " * Multiple Linear Regression : Multiple Features (Columns) are used to train ML model."
   ]
  },
  {
   "cell_type": "markdown",
   "metadata": {},
   "source": [
    "# GETTING STARTED WITH CODE"
   ]
  },
  {
   "cell_type": "markdown",
   "metadata": {},
   "source": [
    "## 1. EXPORATORY DATA ANALYSIS (EDA)\n",
    "     EDA is used for better understanding of dataset and the relation among different features."
   ]
  },
  {
   "cell_type": "code",
   "execution_count": null,
   "metadata": {},
   "outputs": [],
   "source": [
    "# importing all the necessary libraries\n",
    "\n",
    "import numpy as np\n",
    "import pandas as pd\n",
    "import matplotlib.pyplot as plt\n",
    "import seaborn as sns\n",
    "from sklearn import model_selection"
   ]
  },
  {
   "cell_type": "code",
   "execution_count": null,
   "metadata": {},
   "outputs": [],
   "source": [
    "# link to download data \n",
    "\n",
    "data_url =\"http://bit.ly/w-data\"\n",
    "\n",
    "# reading data using pd.read_csv() method\n",
    "\n",
    "data = pd.read_csv(data_url)\n",
    "\n",
    "# sample view of data\n",
    "\n",
    "data.head()"
   ]
  },
  {
   "cell_type": "code",
   "execution_count": null,
   "metadata": {},
   "outputs": [],
   "source": [
    "# no of records/ rows in the dataset\n",
    "\n",
    "data.index"
   ]
  },
  {
   "cell_type": "code",
   "execution_count": null,
   "metadata": {},
   "outputs": [],
   "source": [
    "# Finding column names\n",
    "\n",
    "data.columns"
   ]
  },
  {
   "cell_type": "code",
   "execution_count": null,
   "metadata": {},
   "outputs": [],
   "source": [
    "# Shape of dataframe ( rows, columns)\n",
    "\n",
    "data.shape"
   ]
  },
  {
   "cell_type": "code",
   "execution_count": null,
   "metadata": {},
   "outputs": [],
   "source": [
    "# mean of Study Hours\n",
    "\n",
    "data[\"Hours\"].mean()"
   ]
  },
  {
   "cell_type": "code",
   "execution_count": null,
   "metadata": {},
   "outputs": [],
   "source": [
    "# finding the max and min scores\n",
    "\n",
    "print(\"Max score is :\",data[\"Scores\"].max())\n",
    "print(\"Min score is :\",data[\"Scores\"].min())"
   ]
  },
  {
   "cell_type": "code",
   "execution_count": null,
   "metadata": {},
   "outputs": [],
   "source": [
    "# Describing more about dataset\n",
    "\n",
    "data.describe()"
   ]
  },
  {
   "cell_type": "code",
   "execution_count": null,
   "metadata": {},
   "outputs": [],
   "source": [
    "# more info about data\n",
    "\n",
    "data.info()"
   ]
  },
  {
   "cell_type": "markdown",
   "metadata": {},
   "source": [
    "## 2. Exploring the data visually / Data Visualization"
   ]
  },
  {
   "cell_type": "code",
   "execution_count": null,
   "metadata": {
    "scrolled": true
   },
   "outputs": [],
   "source": [
    "# finding shape and spread of HOURS data \n",
    "\n",
    "sns.distplot(data[\"Hours\"],color=\"blue\")"
   ]
  },
  {
   "cell_type": "code",
   "execution_count": null,
   "metadata": {
    "scrolled": true
   },
   "outputs": [],
   "source": [
    "# finding shape and spread of SCORES data \n",
    "\n",
    "sns.distplot(data[\"Scores\"],color=\"orange\")"
   ]
  },
  {
   "cell_type": "code",
   "execution_count": null,
   "metadata": {},
   "outputs": [],
   "source": [
    "# Plotting Bivariate relation between HOURS and SCORES\n",
    "sns.jointplot(x=data[\"Hours\"],y=data[\"Scores\"],kind=\"kde\",color=\"green\")\n"
   ]
  },
  {
   "cell_type": "code",
   "execution_count": null,
   "metadata": {
    "scrolled": false
   },
   "outputs": [],
   "source": [
    "# plotting scatter plot\n",
    "\n",
    "sns.set_style(\"darkgrid\")\n",
    "sns.scatterplot(x=data[\"Hours\"],y= data[\"Scores\"],hue = data[\"Hours\"])"
   ]
  },
  {
   "cell_type": "markdown",
   "metadata": {},
   "source": [
    "* After visualization, it's now clear that Hours and Scores are directly propotional  ( If Hours increases then the score/ percentage also get increases )\n",
    "* The color of scatter points are fading in if the no of study hours are increasing"
   ]
  },
  {
   "cell_type": "markdown",
   "metadata": {},
   "source": [
    "## 3. Preparing the data\n",
    "* Preparing the data includes separation of input (features) and output (result) columns"
   ]
  },
  {
   "cell_type": "code",
   "execution_count": null,
   "metadata": {},
   "outputs": [],
   "source": [
    "# feature column data\n",
    "train_values = data.iloc[:,:-1].values\n",
    "\n",
    "# result column data\n",
    "test_values = data.iloc[:,1].values\n",
    "\n",
    "# Top 5 sample records in train_values\n",
    "print(train_values[:5])"
   ]
  },
  {
   "cell_type": "code",
   "execution_count": null,
   "metadata": {},
   "outputs": [],
   "source": [
    "# Top 5 sample record in test_values\n",
    "\n",
    "print(test_values[:5])"
   ]
  },
  {
   "cell_type": "markdown",
   "metadata": {},
   "source": [
    "## 4. Splitting Training and Testing Data"
   ]
  },
  {
   "cell_type": "code",
   "execution_count": null,
   "metadata": {},
   "outputs": [],
   "source": [
    "# importing required methods\n",
    "\n",
    "from sklearn.model_selection import train_test_split\n",
    "\n",
    "x_train,x_test,y_train,y_test =train_test_split(train_values,test_values,test_size=0.2)"
   ]
  },
  {
   "cell_type": "code",
   "execution_count": null,
   "metadata": {},
   "outputs": [],
   "source": [
    "# shapes of train and test data sets\n",
    "\n",
    "print(\"Shape of x_train :\",x_train.shape[0])\n",
    "print(\"Shape of y_train :\",y_train.shape[0])\n",
    "print(\"Shape of x_test :\",x_test.shape[0])\n",
    "print(\"Shape of y_test :\",y_test.shape[0])"
   ]
  },
  {
   "cell_type": "markdown",
   "metadata": {},
   "source": [
    "## 5. Model Creation & Model Training"
   ]
  },
  {
   "cell_type": "code",
   "execution_count": null,
   "metadata": {},
   "outputs": [],
   "source": [
    "# importing the model\n",
    "from sklearn.linear_model import LinearRegression\n",
    "\n",
    "# creating model object \n",
    "Model = LinearRegression()\n",
    "\n",
    "# training the model\n",
    "Model.fit(x_train,y_train)\n",
    "\n",
    "print(\"Training completed\")"
   ]
  },
  {
   "cell_type": "markdown",
   "metadata": {},
   "source": [
    "### Regression line for training data"
   ]
  },
  {
   "cell_type": "code",
   "execution_count": null,
   "metadata": {
    "scrolled": true
   },
   "outputs": [],
   "source": [
    "# Model predicted values for x_train (used to draw prediction line)\n",
    "line_values = Model.coef_*train_values+Model.intercept_\n",
    "\n",
    "# plotting Regression line for train data\n",
    "plt.scatter(train_values,test_values)\n",
    "plt.plot(train_values,line_values,color=\"red\")\n",
    "plt.show()"
   ]
  },
  {
   "cell_type": "markdown",
   "metadata": {},
   "source": [
    "\n",
    "### Predicting values for x_test"
   ]
  },
  {
   "cell_type": "code",
   "execution_count": null,
   "metadata": {},
   "outputs": [],
   "source": [
    "# prediction for test data\n",
    "y_test_pred = Model.predict(x_test)\n",
    "\n",
    "print(\"Predicted values : \",y_test_pred)"
   ]
  },
  {
   "cell_type": "code",
   "execution_count": null,
   "metadata": {
    "scrolled": false
   },
   "outputs": [],
   "source": [
    "# Sample dataframe showing predicted values and actual values\n",
    "\n",
    "samp_df = pd.DataFrame({\"Actual\":y_test,\"Predicted\":y_test_pred})\n",
    "samp_df"
   ]
  },
  {
   "cell_type": "markdown",
   "metadata": {},
   "source": [
    "### Regression line for test data"
   ]
  },
  {
   "cell_type": "code",
   "execution_count": null,
   "metadata": {},
   "outputs": [],
   "source": [
    "# plotting x_test and y_test values\n",
    "plt.scatter(x_test,y_test)\n",
    "\n",
    "# plotting regression line\n",
    "plt.plot(x_test,y_test_pred,color =\"red\")\n",
    "\n",
    "# showing plot\n",
    "plt.show()"
   ]
  },
  {
   "cell_type": "markdown",
   "metadata": {},
   "source": [
    "## Visual Representation of Predicted Values and Actual Values"
   ]
  },
  {
   "cell_type": "code",
   "execution_count": null,
   "metadata": {},
   "outputs": [],
   "source": [
    "samp_df.plot(kind=\"bar\",color=[\"green\",\"orange\"])\n",
    "plt.show()"
   ]
  },
  {
   "cell_type": "markdown",
   "metadata": {},
   "source": [
    "## Problem Statement : What will be predicted score if a student studies for 9.25 hrs/ day ?"
   ]
  },
  {
   "cell_type": "code",
   "execution_count": null,
   "metadata": {},
   "outputs": [],
   "source": [
    "hours = [[9.25]]\n",
    "\n",
    "# making prediction\n",
    "pred_score = Model.predict(hours)\n",
    "\n",
    "print(\"Hours Studied : {} \\nScore Predicted : {}\".format(hours[0][0],pred_score[0]))"
   ]
  },
  {
   "cell_type": "markdown",
   "metadata": {},
   "source": [
    "### A student will get  92.52 % if he can able study 9.5 hrs a day"
   ]
  },
  {
   "cell_type": "markdown",
   "metadata": {},
   "source": [
    "# Model Evaluation\n",
    "* There are sevaral metrics available to evaluate a model. Here in this case we will be considering RMSE(Root Mean Squared Error) and Mean Absolute Error to evaluate our model"
   ]
  },
  {
   "cell_type": "code",
   "execution_count": null,
   "metadata": {},
   "outputs": [],
   "source": [
    "from sklearn import metrics"
   ]
  },
  {
   "cell_type": "code",
   "execution_count": null,
   "metadata": {},
   "outputs": [],
   "source": [
    "# Finding mean absolute error\n",
    "print(metrics.mean_absolute_error(y_test,y_test_pred))"
   ]
  },
  {
   "cell_type": "code",
   "execution_count": null,
   "metadata": {},
   "outputs": [],
   "source": [
    "# Finding mean squared error\n",
    "print(metrics.mean_squared_error(y_test,y_test_pred))"
   ]
  },
  {
   "cell_type": "code",
   "execution_count": null,
   "metadata": {},
   "outputs": [],
   "source": [
    "# r2_score \n",
    "print(metrics.r2_score(y_test,y_test_pred))"
   ]
  },
  {
   "cell_type": "code",
   "execution_count": null,
   "metadata": {},
   "outputs": [],
   "source": []
  }
 ],
 "metadata": {
  "kernelspec": {
   "display_name": "Python 3",
   "language": "python",
   "name": "python3"
  },
  "language_info": {
   "codemirror_mode": {
    "name": "ipython",
    "version": 3
   },
   "file_extension": ".py",
   "mimetype": "text/x-python",
   "name": "python",
   "nbconvert_exporter": "python",
   "pygments_lexer": "ipython3",
   "version": "3.8.3"
  }
 },
 "nbformat": 4,
 "nbformat_minor": 4
}
